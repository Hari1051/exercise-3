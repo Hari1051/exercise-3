{
 "cells": [
  {
   "cell_type": "markdown",
   "metadata": {},
   "source": [
    "## The third In-class-exercise (2/22/2022, 40 points in total)"
   ]
  },
  {
   "cell_type": "markdown",
   "metadata": {},
   "source": [
    "The purpose of this exercise is to understand text representation."
   ]
  },
  {
   "cell_type": "markdown",
   "metadata": {},
   "source": [
    "Question 1 (10 points): Describe an interesting text classification or text mining task and explain what kind of features might be useful for you to build the machine learning model. List your features and explain why these features might be helpful. You need to list at least five different types of features."
   ]
  },
  {
   "cell_type": "markdown",
   "metadata": {},
   "source": [
    "# Solution : \n",
    "\n",
    "Parts of Speech classification is one of the most an interesting text classification task. In this process we classify the given text into traditional class of words like  adjectives, adverbs, nouns, and verbs. So here we assign POS(parts of Speech) tags to the whole text given.\n",
    "\n",
    "For this assignment i am taking IMDB movie reviews data to extact features for each word, such as noun, pronoun, and verb, as well as the count of each tag.These features are very helpful for machine learning algorithms to make decisions.For an example the part of speech that denotes distinct people, places, or objects is singular and denoted by NN.\n",
    "The table which shows symbols and respective text can be given as follow :\n",
    "\n",
    "Sr NO. | CLASS       | Dentted As  |Words \n",
    "  1    | Singular    |   NN        |distinct people, places, or objects\n",
    "  2    | Verb        |   VBD       |denotes a noun's action in the past \n",
    "  \n",
    "Words in the same clause are connected by conjunctions.The relationship between the preceding noun and another word is represented by the preposition preceding noun.The number of adjectives is used to denote a grammatically linked attribute of a noun.Interjunction , Named entity recognition model, semantic analysis, and Pattern Identification are examples of features that can be used to develop machine learning models.\n"
   ]
  },
  {
   "cell_type": "markdown",
   "metadata": {},
   "source": [
    "Question 2 (20 points): Write python code to extract these features you discussed above. You can collect a few sample text data for the feature extraction. "
   ]
  },
  {
   "cell_type": "code",
   "execution_count": 1,
   "metadata": {},
   "outputs": [],
   "source": [
    "# Importing Libraries\n",
    "import requests\n",
    "from bs4 import BeautifulSoup\n",
    "import re\n",
    "import pandas as pd\n",
    "import numpy as np\n",
    "import itertools\n",
    "import lxml.html as LH\n",
    "import urllib.request as urllib2\n",
    "from bs4 import BeautifulSoup"
   ]
  },
  {
   "cell_type": "code",
   "execution_count": 2,
   "metadata": {},
   "outputs": [],
   "source": [
    "def extractPosts(url,links):\n",
    "    # requesting url\n",
    "    request = urllib2.Request(url)\n",
    "    respOfReq = urllib2.urlopen(request)\n",
    "    # getting data\n",
    "    soup = BeautifulSoup(respOfReq)\n",
    "    \n",
    "    for aTag in soup.findAll('a'):\n",
    "        try:\n",
    "            url = aTag['href']\n",
    "            title = aTag['title']\n",
    "            if title == \"Older Posts\":\n",
    "                # Printing title & URL\n",
    "                print(title, url)\n",
    "                links.append(url)\n",
    "                getAllDoxyDonkeyPosts(url,links)\n",
    "        except:\n",
    "            title = \"\"\n",
    "    return"
   ]
  },
  {
   "cell_type": "code",
   "execution_count": 3,
   "metadata": {},
   "outputs": [
    {
     "name": "stdout",
     "output_type": "stream",
     "text": [
      "Older Posts https://doxydonkey.blogspot.com/search?updated-max=2017-05-23T19:53:00-07:00&max-results=7\n"
     ]
    }
   ],
   "source": [
    "# extracting blog url POST\n",
    "blogUrl = \"https://doxydonkey.blogspot.com/\"\n",
    "links = []\n",
    "# CALLING extract POSTS\n",
    "extractPosts(blogUrl,links)"
   ]
  },
  {
   "cell_type": "code",
   "execution_count": 12,
   "metadata": {},
   "outputs": [],
   "source": [
    "def getDoxyDonkeyText(testUrl):\n",
    "    request = urllib2.Request(testUrl)\n",
    "    response = urllib2.urlopen(request)\n",
    "    soup = BeautifulSoup(response)\n",
    "    mydivs = soup.findAll(\"div\", {\"class\":'post-body'})\n",
    "    \n",
    "\n",
    "    posts =[]\n",
    "    for div in mydivs:\n",
    "        posts+=map(lambda p:str(str(p.text).encode('ascii', errors='replace')).replace(\"?\",\" \"), div.findAll(\"li\"))\n",
    "    return posts"
   ]
  },
  {
   "cell_type": "code",
   "execution_count": 13,
   "metadata": {},
   "outputs": [],
   "source": [
    "doxyDonkeyPosts = []\n",
    "for link in links:\n",
    "    doxyDonkeyPosts.append(getDoxyDonkeyText(link))"
   ]
  },
  {
   "cell_type": "code",
   "execution_count": 14,
   "metadata": {},
   "outputs": [
    {
     "name": "stdout",
     "output_type": "stream",
     "text": [
      "POST ID :  0\n",
      "[['b\"SoftBank\\'s $100 Billion Tech Fund Rankles VCs as Valuations Soar: In the months since Softbank Group Corp. unveiled plans for a $100 billion technology fund, the Japanese company has been making its presence deeply felt across the industry. The Vision Fund closed a few days ago with $93 billion in initial commitments, and already venture firms from London to Silicon Valley are fretting about a behemoth with the resources, clout and name recognition to snatch away the most promising deals. Just last week, SoftBank swooped in and pumped $1.4 billion into Paytm, India s largest digital-payments startup. The deal boosted Paytm\\'s valuation by about 40 percent to $7 billion. That\\'s not outlandish given Paytm\\'s dominant market position, but the valuations of other SoftBank deals have prompted head-scratching and ignited alarm that a funding atmosphere that only recently cooled off will heat up again. there\\'s the concern that SoftBank will ladle out more money than startups need or can absorb. Already founders approached by SoftBank are caught between the desire to take the money and concern about handing over too much control of their company, according to an investor. One startup targeted by SoftBank has tried to negotiate for less money, this person says. SoftBank won\\'t budge; it\\'s a big check or nothing. SoFi originally asked for less money, too, according to another investor. Pushing startups to take more cash than they ask for has been Son\\'s strategy since the beginning. SoftBank invested more money in Yahoo, Alibaba and Didi than what the entrepreneurs had initially wanted. \"', \"b'Quora tests video answers to steal Q&A from YouTube: Newly-minted unicorn Quora has even bigger ambitions than text questions-and-answers. And it s not going to let video giants or startups disrupt its future. This week Quora began testing video answers, because sometimes it s a lot easier to show someone how something works, the best way to complete a task, or why one thing is better than another than try to write it out for them. Users in the beta group will be able to record videos on iOS or Android as supplements or complete answers that everyone on Quora can watch. It s considering allowing video uploads, which might offer more polished content but increase spam concerns. Previously, Quora only let users answer with text, natively hosted photos, links, and embedded videos from platforms like YouTube. Now it s actively hosting and soliciting video uploads. Quora s entry into the space could box out younger competitors like Justin Kan s mobile video Q&A app Whale, and video Ask Me Anything app Yam. These apps are focused entirely on simplifying the process of recording video answers to questions with features like filters to make you look better, and both give creators ways to earn money. But Quora s 190 million users, $226 million in funding, and 8-year head start give it a big edge. It s been cautiously curating a network of experts and content, while building a brand name known for quality in contrast to its predecessor Yahoo Answers. Its network effect may be tough to break.'\", \"b'Pittsburgh Welcomed Uber s Driverless Car Experiment. Not Anymore. When Uber picked this former Rust Belt town as the inaugural city for its driverless car experiment, Pittsburgh played the consummate host.  You can either put up red tape or roll out the red carpet,  Bill Peduto, the mayor of Pittsburgh, said in September.  If you want to be a 21st-century laboratory for technology, you put out the carpet.  Nine months later, Pittsburgh residents and officials say Uber has not lived up to its end of the bargain. Among Uber s perceived transgressions: The company began charging for driverless rides that were initially pitched as free. It also withdrew support from Pittsburgh s application for a $50 million federal grant to revamp transportation. And it has not created the jobs it proposed in a struggling neighborhood that houses its autonomous car testing track. The deteriorating relationship between Pittsburgh and Uber offers a cautionary tale, especially as other cities consider rolling out driverless car trials from Uber, Alphabet s Waymo and others.'\", 'b\\'LeEco employees are being called to a Tuesday meeting, and massive layoffs are expected: LeEco, a Chinese company that made a big splash in the U.S. last fall, is preparing for a round of layoffs that may happen as soon as Tuesday, according to sources. Two people told CNBC the company is planning massive layoffs in the U.S., with one source saying that only 60 employees will be left after the cut. The company\\\\\\'s current headcount in the U.S. is over 500, according to this person. LeEco started out in China as a streaming media provider   it has been referred to as the \"Netflix of China\"   and looked to expand into the US by selling affordable hardware that linked consumers to media content from LeEco\\\\\\'s partners. Its first batch of products included two smartphones and several TVs, all of which offered flagship-level specs at affordable prices. The idea, it seemed, was that LeEco would make its money back when consumers tuned in to partner programming. When it made its debut in the US in October 2016, it also promised more, including VR headsets and an electric bicycle.\\'', \"b'Why Did a Chinese Peroxide Company Pay $1 Billion for a Talking Cat  Even by the opaque standards of Chinese mergers and acquisitions, the deal was a head-scratcher. It s hard to see the synergies between a maker of chemical solvents and a digital cat perched over a toilet. And curiously, the buyer, which had recently been renamed Zhejiang Jinke Entertainment Culture Co., had revenue of only $133 million in 2016, according to Bloomberg data pulled from regulatory filings, and its gross profit was $55 million. Jinke won t say where the money to buy Outfit7 came from. Talking Tom is not alone. There s been a recent flurry of oddball pairings between Chinese industrial interests and Western entertainment companies. A real estate magnate in Beijing bought Legendary Entertainment, the movie studio that made the Dark Knight trilogy, for $3.5 billion. A maker of construction materials bought Framestore, the company behind the special effects in the Harry Potter films. Zhejiang Dragon Pipe Manufacturing Co. acquired app developer Entertainment Game Labs. And perhaps strangest of all, Digital Extremes Ltd., which created an alien battle game, and the studio Splash Damage Ltd., which made an offshoot of the Xbox hit Gears of War, were bought by an enormous Chinese poultry processor. According to CODE Advisors LLC, an investment bank that specializes in media and technology deals, 70 percent of all acquisitions of game companies since 2015 have been by Chinese buyers. Samo, for one, isn t stopping to ask questions. A vegan, he s using his windfall to start a food-sustainability foundation.  It s not easy,  he says,  to find buyers for a $1 billion company.  The deal activity can best be understood as a consequence of quirks in the Chinese stock market. In China, industrial companies trade at valuations they d never receive elsewhere in the world. Affan Butt, an investment banker who helped facilitate the sale of Jagex, says some may trade at as much as 100 times their annual earnings more than four times the multiple of General Electric Co. This means they can acquire companies at what is effectively a discount. A target like Jagex is worth more once it s part of a Chinese-listed company, allowing the acquirer to pay prices that appear bafflingly high to the rest of the world. '\", 'b\" Thanks!  or  Thanks.   Google will tailor suggested email replies to your preferences. If you use Google\\'s Gmail app, you may have seen something new pop up on your screen this week: suggested responses for your emails. The move illustrates one way that Google is using its increased focus on artificial intelligence and machine learning. If you\\'re wondering why and how Google can make these suggestions, here are some answers about the feature and how it works. Google calls the feature Smart Reply, and it s pretty much what it sounds like. Google algorithms are scanning your messages and using the information it gleans to suggest ways that you could reply to any given message. Smart Reply relies on machine learning to scan the subject line and body of an email and make suggestions based on what it sees. The company said it has built up a huge bank of anonymized customer messages and response decisions to help accomplish this. It is also designed to remember your individual preferences for things, such as punctuation. So it will be able to adjust its suggestions depending on whether you\\'re a  Thanks!  or  Thanks.  type of person. Smart Replies won\\'t appear on every email though, Google said. You\\'re most likely to see response suggestions on emails that can be easily answered with a simple sentence or two.\"', 'b\"Softbank-Saudi tech fund becomes world\\'s biggest with $93 billion of capital: The world\\'s largest private equity fund, backed by Japan\\'s Softbank Group and Saudi Arabia\\'s main sovereign wealth fund, said on Saturday it had raised over $93 billion to invest in technology sectors such as artificial intelligence and robotics. Japanese billionaire Masayoshi Son, chairman of Softbank, a telecommunications and tech investment group, revealed plans for the fund last October and since then it has obtained commitments from some of the world\\'s most deep-pocketed investors.  In addition to Softbank and Saudi Arabia\\'s Public Investment Fund (PIF), the new fund\\'s investors include Abu Dhabi\\'s Mubadala Investment, which has committed $15 billion, Apple Inc, Qualcomm, Taiwan\\'s Foxconn Technology and Japan\\'s Sharp Corp. The new fund made its announcement during the visit of President Donald Trump to Riyadh and the signing of tens of billions of dollars worth of business deals between U.S. and Saudi companies. Son was also in Riyadh on Saturday. After meeting with Trump last December, Son pledged $50 billion of investment in the United States that would create 50,000 jobs, a promise Trump claimed was a direct result of his election win. The fund may also serve the interests of Saudi Arabia by helping Riyadh obtain access to foreign technology. The Saudi economy has been severely damaged by low oil prices, and policymakers are trying to diversify into new industries.\"', \"b'Alibaba Profit Lags Estimates on Tax as Sales Defy Slowdown: Alibaba Group Holding Ltd. s earnings lagged estimates after it swallowed a higher tax bill and splurged on the entertainment and cloud computing businesses that are fueling revenue growth. The shares dropped the most in almost a year. China s biggest e-commerce company posted adjusted earnings-per-share of 4.35 yuan, missing the 4.51 yuan average of estimates compiled by Bloomberg. That came even as revenue rose at a faster-than-expected 60 percent to 38.6 billion yuan ($5.6 billion). Core commerce revenue surged 47 percent to 31.57 billion yuan with the business delivering operating income of 16.5 billion yuan, the company said. While cloud unit revenue doubled in the March quarter to 2.2 billion yuan, the business had an operating loss of 505 million yuan as it slashes prices to snatch market share from Amazon.com Inc. and Tencent. Revenue from digital entertainment more than tripled to 3.9 billion yuan with an operating loss of 2.6 billion yuan as it spends on content for video site Youku Tudou and other platforms. Income tax expenses soared 149 percent to 4.6 billion yuan in the March quarter. Its effective tax rate climbed to 29 percent from 23 percent a year earlier.'\", \"b'Paytm raises $1.4 billion from SoftBank, valuation soars to $7 billion: Paytm has raised $1.4 billion from SoftBank Group Corp. in the largest funding round by a single investor in India, making the digital payments firm the Japanese company s biggest bet in India s start-up ecosystem. The deal includes $400 million worth of shares that SoftBank will buy largely from Paytm s early investor SAIF Partners in a secondary transaction, and a minor stake from founder Vijay Shekhar Sharma, according to two persons close to the development. The deal values the company at about $7 billion post-money (including the investment) and will take SoftBank s stake to about 20%, the two people said, requesting anonymity. Paytm, India s second-most valuable internet firm, will use the money to acquire 500 million new customers and launch a slew of financial services products such as wealth management, insurance and deposits and loans.  This business will require a lot of capital before it can start generating cash and hence we need long-term investors like SoftBank and Alibaba,  founder Sharma said in a telephone interview.'\", \"b'Walmart Reports 63% Rise in Online Sales: On Thursday, the company said e-commerce sales had grown 63 percent in the United States in the latest quarter. The unexpected leap offered the strongest evidence yet that Walmart, the country s largest retailer, is making headway in its effort to be as prominent online as it is across the American landscape. Walmart s latest strategy, put in place by its current chief executive, Doug McMillon, has several parts: expand the number of products available online, better leverage its huge physical warehouses and distribution centers to reach customers quickly across the country, and aggressively pursue deals for online stores. The biggest of those deals, in which Walmart paid $3.3 billion for the bulk e-commerce retailer Jet.com last year, was part of the plan to offer customers more products through the web. The earnings results on Thursday gave only hints of about how much the acquisitions gave the company a one-time bump in sales, rather than long-lasting fruit from other changes the company has made. Comparable-store sales, one measure of growth that looks at stores that have been open for at least a year, rose 1.4 percent. That number includes Walmart s core online business, but not items sold through Jet.com. Walmart completed its purchase of Jet in September. Smaller digital acquisitions followed, including ModCloth, a women s clothing retailer, and the outdoor apparel site Moosejaw. The deal for Jet was also widely seen as a play for its founder, Marc Lore, a serial digital entrepreneur who could help fix Walmart s online strategy. Mr. Lore was put in charge of running Walmart.com after the acquisition, spearheading the face-off between the world s largest brick-and-mortar retailer and its biggest online competitor.'\", 'b\"Cisco revenue forecast disappoints; says to cut 1,100 more jobs: Cisco forecast current-quarter revenue that widely missed analysts\\' estimates and said it would cut 1,100 more jobs, as the world\\'s largest networking gear maker steps up efforts to transform into a software-focused company. Shares of the Dow component fell 8.2 percent to $31.05 in after-market trading on Wednesday. The stock had closed down 1.4 percent in regular trading, compared with the 1.78 percent slump in the index. Revenue in its closely-watched security business, which offers firewall protection and breach detection systems, rose 9 percent to $527 million, but missed analysts\\' estimate of $545.5 million, according to financial data and analytics firm FactSet Street Account. Cisco, like other legacy technology players, is shifting its focus to high-growth areas such as security, the Internet of Things and cloud computing, amid intense competition from companies such as Huawei and Juniper. The company\\'s net income rose to $2.52 billion, or 50 cents per share, in the third quarter ended April 29 from $2.35 billion, or 46 cents per share, a year earlier. Revenue fell 0.5 percent to $11.94 billion.\"', 'b\"Square Will Replace Meters in Washington Taxis: Washington, D.C., is enlisting Square Inc. s help as its taxi commission tries to help the city s cabbies compete with Uber drivers. By the end of August, all of the taxis in Washington have to tear out their traditional meters and start using smartphones or tablets, in what the city government has been describing as a complete reimagining of how the cab system works. For Square, the deal reflects an increasing focus on becoming the payment platform for a range of other company\\'s mobile applications, websites and point-of-sale devices. No money is changing hands between the company and the city. Square agreed to satisfy the department s requirement that drivers give up no more than 2.65 percent of their fares in transaction fees, according to the department. That s lower than the standard 2.75 commission it usually takes and significantly less than the 3.5 percent to 5 percent commission that drivers currently pay to use the mechanical meters, according to Ernest Chrappah, the director of the city\\'s taxi regulator.  Chrappah said the lower fees will help make it easier for cabbies to sustain themselves. But the bigger changes come in the increased flexibility that taxi drivers will have once they re untethered from mechanical meters. There won t be a single taxi app. Instead, the department is asking developers to build apps, which it will then certify for use by licensed taxi drivers. It is currently working with seven developers, who will make their apps public between now the deadline to replace the meters. It will continue to consider adding new apps as developers pitch them. All of the certified apps must be able to operate as meters for street hails. They ll also be able to provide digital receipts showing the route they took and give riders the option to rate drivers. Developers can also build services like carpooling or delivery systems that will connect drivers to local merchants looking for people to drop off food, groceries or other products. A developer could build an Uber clone, creating a way to connect drivers to passengers requesting rides through an app. The exact contours of these services will become clear as the individual developers release their software. Taxis will also be able to offer dynamic pricing, where drivers can give discounts during periods when they have trouble securing fares. This resembles Uber s practice of charging more when demand rises as a way to coax drivers onto the road, only in reverse. Drivers won t have the option to increase their fares.\"', \"b'As self-driving cars hit the road, real estate development may take new direction: The much-hyped transition to autonomous cars, while still years, or even decades, away, according to experts, is an opportunity and challenge that has wide potential to reshape our transportation systems. But many believe that as city planners, transportation officials, and, eventually, developers start grappling with the changes to come, autonomous vehicles  potential to reshape real estate, development, and city planning will rival that of the introduction of the automobile. At the American Planning Association s annual conference earlier this month in New York City, the issue of autonomous vehicles and driverless cars, one admittedly far in the future, was the subject of numerous present-day panels, discussions, and debates. [An expert] sees two small but significant changes affecting urban real estate development in the age of driverless cars. A reduced need for parking may be the most significant. High-value property in urban areas needs to account for mandatory parking allowances, forcing developers to factor the cost of parking spaces into construction costs and rent. Local government will need to act decisively to regulate drop-off lanes, speeds, and new parking rules before market forces, and other governments, begin making decisions for them. Technology firms shouldn t reap the rewards after cities make the investments necessary to adapt to a new transportation reality.'\", \"b'Uber Engineer Barred From Work on Key Self-Driving Technology, Judge Says: Uber, the ride-hailing company, sidestepped a full shutdown of its self-driving car efforts on Monday when a federal judge stopped short of issuing a temporary injunction against the program. But the court mandated that Anthony Levandowski, a star engineer leading the program, be prohibited from working on a critical component of autonomous vehicle technology for the duration of the litigation, a setback that could hamper Uber s development efforts. The decision was in a case that has underlined the increasingly bitter fight between Uber and Waymo, the self-driving car business that operates under Google s parent company. The companies have been competing in the development of autonomous vehicles, which many consider the future of transportation. The outcome of the case may affect who wins or loses in the technology, which has also drawn other tech companies, automakers and start-ups. In the ruling on Monday, Judge William Alsup of Federal District Court in San Francisco, said,  Waymo L.L.C. has shown compelling evidence that its former star engineer, Anthony Levandowski, downloaded over 14,000 confidential files from Waymo immediately before leaving his employment there.  He added,  Significantly, the evidence indicates that, during the acquisition, Uber likely knew or at least should have known that Levandowski had taken and retained possession of Waymo s confidential files.  Judge Alsup also ruled that Waymo significantly  overreached  when it asked for protection on more than 120 patents it called trade secrets.  General approaches dictated by well-known principles of physics, however, are not  secret,  since they consist essentially of general engineering principles that are simply part of the intellectual equipment of technical employees,  Judge Alsup wrote. He directed Uber to produce a timeline of the events leading to Mr. Levandowski s hiring, including all oral and written discussions between the parties about an important self-driving technology called lidar, short for light detection and ranging, which Mr. Levandowski has been accused of stealing. The judge also ordered Uber to do what it could to ensure the return of the files to Waymo, including the possibility of terminating Mr. Levandowski s employment at Uber.Despite the judge s ruling on Mr. Levandowski, Uber also had cause for celebration because its self-driving research program was not shut down, which would have been a more serious blow.'\", 'b\\'Hardly Anyone Paying the Hackers  Because Using Bitcoin Is Hard: An unprecedented cyberattack swept across the globe over the weekend, but so far the majority of victims haven t paid hackers a ransom. After the ransomware began infecting users on Friday, they were given 72 hours to pay $300 in bitcoin -- chosen by the hackers because the crypto currency is harder to track than conventional payments -- or pay twice as much. If they refused to pay after seven days, their computer would be permanently locked -- a serious problem for those who haven t backed up their data. As of early Monday, only about $50,000 had been paid in ransoms, according to Elliptic Enterprises Ltd., a London-based company that tracks illicit use of bitcoin. The company calculated the total based on payments tracked to bitcoin addresses specified in the ransom demands, adding that it expects the total to rise.  Paying a ransom isn t like buying something from Amazon by entering their credit or debit card information. Even though the hackers provided a helpful link for those new to paying in bitcoin, the crypto currency is a black box for most people. \"If you re presented with something that says pay this amount in bitcoin, most people don t know where to start with that,\" said James Smith, the CEO and co-founder of Elliptic. There are several steps. First, a person or business has to obtain the bitcoins by registering with one of the various online exchanges and going through its verification process. After that, money can be deposited into the exchange. For those living in countries that don t have an exchange, including the U.K., money must be converted into another currency. Once the money is deposited on the exchange, the bitcoins can be sent to the address provided by the extortionist. \"It looks like a long garbled string of text,\" Smith said. After the fee is paid, the hackers supposedly free the affected computer. \"A large amount of bitcoin is actually somewhat difficult to source quickly,\" said Alex Sunnarborg, an analyst at bitcoin research company CoinDesk, adding it might take a few days to create an account at a bitcoin brokerage or exchange, connect a bank account, and then receive the bitcoin. One notable difference with this attack is that the perpetrators demanded a relatively small amount of money but from a large number of people, said James Chappell, chief technology officer and co-founder of U.K. security company Digital Shadows. More typically, he said, hackers demand one large ransom to unlock all the infected machines. \"Quite often they re in the thousands rather than the hundreds of dollars,\" he said. \"It is unusual to see this piecemeal approach, computer by computer.\"\\'', \"b'Extortionists Mount Global Hacking Attack Seeking Ransom: Extortionist hackers who may be using leaked computer exploits from the U.S. National Security Agency infiltrated computers in dozens of countries in a fast-spreading attack that forced British hospitals to turn away patients and breached systems at Spain s Telefonica SA and organizations from Russia to Taiwan. The ransomware used in Friday s cyber-attacks encrypts files and demands that victims pay $300 in bitcoin for them to be decrypted, the latest in a vexing style of security breaches that, at the very least, forces organizations to revert to backup systems to keep critical systems running. The malicious software has infected more than 75,000 computers in 99 countries worldwide on Friday, most of them concentrated in Russia, Ukraine and Taiwan, according to Dutch cybersecurity company Avast Software BV. While the victim tally is likely to grow, the ransomware, called WanaCrypt0r, only affects computers that haven t applied Microsoft s two-month-old fix, a reminder that individuals and organizations that don t routinely update their machines are vulnerable. Hospitals are notoriously slow in applying security fixes, in part because of how disruptive it is to take patient-facing equipment and databases offline. That has made them a reliable target of ransomware and identity-theft attacks, and why they routinely fall victim even to random mass attacks.'\", 'b\"Alphabet s self-driving unit Waymo is teaming up with Lyft: Waymo, the self-driving unit of Google parent company Alphabet, is teaming up with Lyft to work on bringing autonomous vehicle efforts to market, the New York Times reports. Details on what this partnership entails remain a little fuzzy, but sources told Times reporter Mike Isaac the two companies would be working together on pilot projects and product development efforts. That\\'s another way of saying Lyft users in some markets will likely be able to hail a Waymo self-driving car in a limited test sometime down the road. This is not Lyft s only partnership aimed at bringing self-driving technology into the mainstream. Lyft has a partnership with GM, which last year acquired self-driving startup Cruise. Alphabet was also experimenting with its own ride-hailing app   which the company has been using in its first pilot program in Arizona. But it\\'s not likely the company would solely depend on either that app or the ride-matching service Waze, another Alphabet subsidiary, has been experimenting with to give consumers access to self-driving cars. That s largely due to the difficulty of gaining market share in the already crowded ride-hail industry   an issue Lyft, the perennial runner up to Uber, knows all too well. The relationship between Uber and Alphabet has gone from tense to combative in the past year. It was long-rumored that the two players would work together on an network of autonomous cars but Uber decided to navigate that road on its own making a competitor of Alphabet as both companies vyed for automaker partnerships. This is just the latest in a series of blows to Uber s and Waymo s once potentially fruitful relationship.\"']]\n",
      "\n",
      "\n",
      "\n"
     ]
    }
   ],
   "source": [
    "i =0 \n",
    "for post in doxyDonkeyPosts:\n",
    "    print(\"POST ID : \",i)\n",
    "    print(doxyDonkeyPosts)\n",
    "    print(\"\\n\\n\")\n",
    "    i+=1\n",
    "    "
   ]
  },
  {
   "cell_type": "code",
   "execution_count": 7,
   "metadata": {},
   "outputs": [],
   "source": [
    "\n",
    "# import TfidfVectorizer\n",
    "from sklearn.feature_extraction.text import TfidfVectorizer"
   ]
  },
  {
   "cell_type": "code",
   "execution_count": 8,
   "metadata": {},
   "outputs": [],
   "source": [
    "vectorizer = TfidfVectorizer(max_df=0.5,min_df=2,stop_words='english')"
   ]
  },
  {
   "cell_type": "code",
   "execution_count": 9,
   "metadata": {},
   "outputs": [
    {
     "data": {
      "text/plain": [
       "<2804x13249 sparse matrix of type '<class 'numpy.float64'>'\n",
       "\twith 280907 stored elements in Compressed Sparse Row format>"
      ]
     },
     "execution_count": 9,
     "metadata": {},
     "output_type": "execute_result"
    }
   ],
   "source": [
    "X = vectorizer.fit_transform(doxyDonkeyPosts)\n",
    "X"
   ]
  },
  {
   "cell_type": "code",
   "execution_count": 10,
   "metadata": {},
   "outputs": [
    {
     "data": {
      "text/plain": [
       "<1x13249 sparse matrix of type '<class 'numpy.float64'>'\n",
       "\twith 108 stored elements in Compressed Sparse Row format>"
      ]
     },
     "execution_count": 10,
     "metadata": {},
     "output_type": "execute_result"
    }
   ],
   "source": [
    "X[0]"
   ]
  },
  {
   "cell_type": "code",
   "execution_count": 11,
   "metadata": {},
   "outputs": [
    {
     "name": "stdout",
     "output_type": "stream",
     "text": [
      "  (0, 12864)\t0.06733219884065819\n",
      "  (0, 6245)\t0.06369951906653021\n",
      "  (0, 4383)\t0.0712742067387517\n",
      "  (0, 3699)\t0.0686137540526814\n",
      "  (0, 950)\t0.046886452299651\n",
      "  (0, 13163)\t0.0622745840035329\n",
      "  (0, 6435)\t0.06113880308112733\n",
      "  (0, 1648)\t0.06447170385744226\n",
      "  (0, 11348)\t0.05383119854123033\n",
      "  (0, 10980)\t0.07894242824848453\n",
      "  (0, 1291)\t0.06757910018698837\n",
      "  (0, 2279)\t0.04722067994213828\n",
      "  (0, 9355)\t0.06427453996677515\n",
      "  (0, 1292)\t0.055479438252059546\n",
      "  (0, 8288)\t0.07377249594651922\n",
      "  (0, 10952)\t0.10043662941574016\n",
      "  (0, 2448)\t0.06808666391619446\n",
      "  (0, 1730)\t0.04022101317016173\n",
      "  (0, 2059)\t0.10349428828962319\n",
      "  (0, 13077)\t0.05347058157139451\n",
      "  (0, 10331)\t0.04265853662872073\n",
      "  (0, 8652)\t0.049286042492528694\n",
      "  (0, 7920)\t0.0873435867005107\n",
      "  (0, 12240)\t0.06593750579830228\n",
      "  (0, 11759)\t0.06888510260262494\n",
      "  :\t:\n",
      "  (0, 575)\t0.07683015482040226\n",
      "  (0, 882)\t0.04222096913340399\n",
      "  (0, 3398)\t0.051876428617255096\n",
      "  (0, 2618)\t0.05966397733092536\n",
      "  (0, 12768)\t0.07063675906087141\n",
      "  (0, 6196)\t0.04077333595826617\n",
      "  (0, 4820)\t0.08013471504061546\n",
      "  (0, 3476)\t0.0873435867005107\n",
      "  (0, 9041)\t0.06616031808951453\n",
      "  (0, 7261)\t0.04323644503376838\n",
      "  (0, 6546)\t0.06616031808951453\n",
      "  (0, 11823)\t0.03443025254225098\n",
      "  (0, 8810)\t0.04253780761874722\n",
      "  (0, 12541)\t0.06593750579830228\n",
      "  (0, 3101)\t0.049351762781534456\n",
      "  (0, 5524)\t0.04160845804837586\n",
      "  (0, 7712)\t0.039528312780359336\n",
      "  (0, 10941)\t0.08963267102035952\n",
      "  (0, 12638)\t0.12105939191869748\n",
      "  (0, 12666)\t0.08632811080014632\n",
      "  (0, 5218)\t0.15659091945573025\n",
      "  (0, 11809)\t0.03927337232908132\n",
      "  (0, 1742)\t0.1332737832823553\n",
      "  (0, 14)\t0.09279983286675082\n",
      "  (0, 10955)\t0.5732956715987719\n"
     ]
    }
   ],
   "source": [
    "print(X[0])"
   ]
  }
 ],
 "metadata": {
  "kernelspec": {
   "display_name": "Python 3 (ipykernel)",
   "language": "python",
   "name": "python3"
  },
  "language_info": {
   "codemirror_mode": {
    "name": "ipython",
    "version": 3
   },
   "file_extension": ".py",
   "mimetype": "text/x-python",
   "name": "python",
   "nbconvert_exporter": "python",
   "pygments_lexer": "ipython3",
   "version": "3.9.7"
  },
  "vscode": {
   "interpreter": {
    "hash": "efc189d5a6b1765b9f0e688a3ead79b2bb42b43ba45a174e804530e9fa16bfbc"
   }
  }
 },
 "nbformat": 4,
 "nbformat_minor": 2
}
